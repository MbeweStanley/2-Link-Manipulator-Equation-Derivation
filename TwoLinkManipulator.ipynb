import sympy as sym
import numpy as np 
from IPython.display import display

# create symbolic variables

# system parameters
X0,Y0 = sym.symbols(['X0','Y0']) # fixed position of first link
g = sym.symbols('g')
m1,m2 = sym.symbols(['m1','m2']) # mass of links
l1,l2 = sym.symbols(['l1','l2']) # length of links
In1,In2 = sym.symbols(['In1','In2']) # moment of intertia of links

# generalized coordinates
theta_1,theta_2 = sym.symbols(['theta1','theta2']) #position
dtheta_1,dtheta_2 = sym.symbols(['\dot{\\theta}_{1}','\dot{\\theta}_{2}']) #velocity
ddtheta_1,ddtheta_2 = sym.symbols(['\ddot{\\theta}_{1}','\ddot{\\theta}_{2}']) #acceleration

q = sym.Matrix([[theta_1],[theta_2]]) #group into matrices
dq = sym.Matrix([[dtheta_1],[dtheta_2]])
ddq = sym.Matrix([[ddtheta_1],[ddtheta_2]])

# STEP 1: write expressions for the system space coordinates in terms of the generalized coordinates and parameters
theta_1a = theta_1 #absolute angle
theta_2a = theta_2 + theta_1 

x1 = X0 + 0.5*l1*sym.sin(theta_1a)
y1 = Y0 - 0.5*l1*sym.cos(theta_1a)

x2 = X0 + l1*sym.sin(theta_1a) + 0.5*l2*sym.sin(theta_2a)
y2 = Y0 - l1*sym.cos(theta_1a) - 0.5*l2*sym.cos(theta_2a)

# STEP 2: generate expressions for the system space velocities
p1 = sym.Matrix([x1,y1,theta_1])
[dx1,dy1,dtheta_1a] = p1.jacobian(q)*dq

p2 = sym.Matrix([x2,y2,theta_2a])
[dx2,dy2,dtheta_2a] = p2.jacobian(q)*dq


# STEP 3: generate expressions for the kinetic and potential energy

T = sym.Matrix([0.5*m1*(dx1**2+dy1**2) + 0.5*m2*(dx2**2+dy2**2) + 0.5*In1*dtheta_1a**2 + 0.5*In2*dtheta_2a**2])
V = sym.Matrix([m1*g*y1 + m2*g*y2])

# STEP 4: calculate each term of the Lagrange equation
# term 1
Lg1 = sym.zeros(1,len(q))
for i in range(len(q)):
    dT_ddq = sym.diff(T,dq[i]) # get partial of T in dq_i
    Lg1[i] = dT_ddq.jacobian(q)*dq + dT_ddq.jacobian(dq)*ddq #...then get time derivative of that partial

# term 3
Lg3 = T.jacobian(q) # partial of T in q

# term 4
Lg4 = V.jacobian(q) # partial of U in q

#combine
L= Lg1 - Lg3 + Lg4

#display(L) #if you want to visualise the full mathematica derivations of lagrangian equation

#initial conditions
theta_10 = np.pi/4
theta_20 = 0
dtheta_10 = 0
dtheta_20 = 0

h = 0.01

#parameters
X0val = 0
Y0val = 2
l1val = 1
l2val = 1

parameter_values = [(X0,X0val),(Y0,Y0val),(g,9.81),(m1,1),(m2,1),(l1,l1val),(l2,l2val),(In1,0.08),(In2,0.08)]

theta_1ar = [theta_10]
theta_2ar = [theta_20]
dtheta_1ar = [dtheta_10]
dtheta_2ar = [dtheta_20]

N = 100
for i in range(1,N):
    # substitute into L
    past = [(theta_1,theta_1ar[i-1]),(theta_2,theta_2ar[i-1]),(dtheta_1,dtheta_1ar[i-1]),(dtheta_2,dtheta_2ar[i-1])]
    L_sub = L.subs(parameter_values).subs(past)
    
    #acceleration
    acc = sym.solve(L_sub,[ddtheta_1, ddtheta_2])
    
    #velocity and position    
    dtheta_1ar.append(float(dtheta_1ar[i-1]+h*acc[ddtheta_1]))
    dtheta_2ar.append(float(dtheta_2ar[i-1]+h*acc[ddtheta_2]))
    theta_1ar.append(float(theta_1ar[i-1]+h*dtheta_1ar[i]))
    theta_2ar.append(float(theta_2ar[i-1]+h*dtheta_2ar[i]))

    
#animateion
import matplotlib.pyplot as plt
import matplotlib.animation as ani
from IPython.display import HTML
#%matplotlib inline syntax

fig1, ax1 = plt.subplots(1,1) #create axes

def plot_robot(i,theta_1_in,theta_2_in,ax): #update function for animation
    ax.clear()
    ax.set_xlim([-2,2])
    ax.set_ylim([0,4])
    
    #link 1
    L1topx = X0val
    L1topy = Y0val
    L1bottomx = X0val + l1val*np.sin(theta_1_in[i])
    L1bottomy = Y0val - l1val*np.cos(theta_1_in[i])
    ax.plot([L1topx,L1bottomx],[L1topy,L1bottomy],color='xkcd:black')
    
    #link 2
    L2bottomx = L1bottomx + l2val*np.sin(theta_1_in[i] + theta_2_in[i])
    L2bottomy = L1bottomy - l2val*np.cos(theta_1_in[i] + theta_2_in[i]) 
    ax.plot([L1bottomx,L2bottomx],[L1bottomy,L2bottomy],color='xkcd:black')
    
update = lambda i: plot_robot(i,theta_1ar,theta_2ar,ax1) #lambdify update function

animate = ani.FuncAnimation(fig1,update,range(N),interval = 50,repeat=True)

#animation convertion to HTML5 to embed it in the notebook
html=animate.to_html5_video() 
HTML(html)
# Manipulator Equation (M*ddq + C + G = BTau + Q + J^Tlambda)

# M Matrix
M = sym.zeros(len(q),len(q))

for i in range(len(q)):
    for j in range(len(q)):
        M[i,j] = sym.diff(sym.diff(T,dq[i]),dq[j])
display(M)

M = sym.simplify(M)
display(M)

M_size = int(np.sqrt(len(M))) 

dM = sym.zeros(M_size,M_size)

for i in range(M_size):
      for j in range(M_size):
        dM[i,j] = sym.Matrix([M[i,j]]).jacobian(q)*dq

#C Matrix
C = dM*dq - (sym.Matrix([T]).jacobian(q)).transpose() 
display(C)

#G Matrix
G = (sym.Matrix([V]).jacobian(q)).transpose() 

display(G)
